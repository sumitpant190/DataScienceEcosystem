{
 "cells": [
  {
   "cell_type": "markdown",
   "id": "cb44b312",
   "metadata": {},
   "source": [
    "* Data Science Tools and Ecosystem*"
   ]
  },
  {
   "cell_type": "markdown",
   "id": "5bf96fdf",
   "metadata": {},
   "source": [
    "In this notebook, Data Science Tools and Ecosystem are summarized."
   ]
  },
  {
   "cell_type": "markdown",
   "id": "23902b98",
   "metadata": {},
   "source": [
    "**Objectives:**\n",
    "\n",
    "- List popular languages for Data Science.\n",
    "- Introduce Jupyter Notebook as a development environment.\n",
    "- Demonstrate creating Markdown cells and formatting text.\n",
    "- Showcase evaluating arithmetic expressions in Python.\n",
    "- Explain how to convert units, such as minutes to hours.\n"
   ]
  },
  {
   "cell_type": "markdown",
   "id": "afa6d37c",
   "metadata": {},
   "source": [
    "Some of the popular languages that Data Scientists use are:\n",
    "1. Python\n",
    "2. R\n",
    "3. Java"
   ]
  },
  {
   "cell_type": "markdown",
   "id": "ac9d5505",
   "metadata": {},
   "source": [
    "Some of the commonly used libraries used by Data Scientists include:\n",
    "1. Pandas\n",
    "2. Numpy\n",
    "3. Scikitlearn\n",
    "4. Matplotlib"
   ]
  },
  {
   "cell_type": "markdown",
   "id": "c8e20724",
   "metadata": {},
   "source": [
    "| Data Science Tools |\n",
    "|-------------------|\n",
    "| Jupyter Notebook  |\n",
    "| RStudio           |\n",
    "| PyCharm           |\n"
   ]
  },
  {
   "cell_type": "markdown",
   "id": "c308a13f",
   "metadata": {},
   "source": [
    "### Below are a few examples of evaluating arithmetic expressions in Python.\n",
    "\n",
    "| Expression                 | Result |\n",
    "|---------------------------|--------|\n",
    "| 5 + 3                     | 8      |\n",
    "| 10 - 2                    | 8      |\n",
    "| 4 * 6                     | 24     |\n",
    "| 15 / 3                    | 5.0    |\n",
    "| 7 // 2                    | 3      |\n",
    "| 8 % 3                     | 2      |\n",
    "| 2 ** 4                    | 16     |\n",
    "| (4 + 5) * 2               | 18     |\n",
    "| (6 + 4) / (2 * 2)         | 2.5    |\n",
    "| 3 * (8 - (2 + 1))          | 15     |\n"
   ]
  },
  {
   "cell_type": "code",
   "execution_count": 1,
   "id": "b76be407",
   "metadata": {},
   "outputs": [
    {
     "data": {
      "text/plain": [
       "17"
      ]
     },
     "execution_count": 1,
     "metadata": {},
     "output_type": "execute_result"
    }
   ],
   "source": [
    "# This is a simple arithmetic expression to multiply then add integers\n",
    "result = (3*4) + 5\n",
    "result\n"
   ]
  },
  {
   "cell_type": "code",
   "execution_count": 2,
   "id": "853ac7a6",
   "metadata": {},
   "outputs": [
    {
     "data": {
      "text/plain": [
       "3.3333333333333335"
      ]
     },
     "execution_count": 2,
     "metadata": {},
     "output_type": "execute_result"
    }
   ],
   "source": [
    "# This will convert 200 minutes to hours by dividing by 60\n",
    "minutes = 200\n",
    "hours = minutes / 60\n",
    "hours\n"
   ]
  },
  {
   "cell_type": "markdown",
   "id": "4e7949d6",
   "metadata": {},
   "source": [
    "## Author\n",
    "\n",
    "Sumit Pant\n"
   ]
  },
  {
   "cell_type": "code",
   "execution_count": null,
   "id": "d1404283",
   "metadata": {},
   "outputs": [],
   "source": []
  }
 ],
 "metadata": {
  "kernelspec": {
   "display_name": "Python 3 (ipykernel)",
   "language": "python",
   "name": "python3"
  },
  "language_info": {
   "codemirror_mode": {
    "name": "ipython",
    "version": 3
   },
   "file_extension": ".py",
   "mimetype": "text/x-python",
   "name": "python",
   "nbconvert_exporter": "python",
   "pygments_lexer": "ipython3",
   "version": "3.10.9"
  }
 },
 "nbformat": 4,
 "nbformat_minor": 5
}
